{
 "cells": [
  {
   "cell_type": "code",
   "execution_count": null,
   "metadata": {},
   "outputs": [],
   "source": [
    "import pandas as pd  # Importing the pandas library for data manipulation and analysis.\n",
    "import numpy as np  # Importing the numpy library for numerical operations.\n",
    "import boto3  # Importing the boto3 library to interact with AWS services.\n",
    "import sagemaker  # Importing the sagemaker library for building, training, and deploying machine learning models on AWS SageMaker.\n",
    "import time  # Importing the time library for time-related tasks.\n",
    "import json  # Importing the json library for JSON parsing.\n",
    "import io  # Importing the io library for handling I/O stream operations.\n",
    "from io import StringIO  # Importing StringIO from io for in-memory text streams.\n",
    "import base64  # Importing the base64 library for encoding and decoding Base64 data.\n",
    "import pprint  # Importing the pprint library for pretty-printing Python data structures.\n",
    "import re  # Importing the re library for regular expression operations.\n",
    "\n",
    "from sagemaker.image_uris import retrieve  # Importing the retrieve function from sagemaker.image_uris for retrieving container image URIs.\n",
    "\n",
    "sess = sagemaker.Session()  # Creating a SageMaker session object for managing interactions with the SageMaker service.\n",
    "write_bucket = sess.default_bucket()  # Retrieving the default S3 bucket for the SageMaker session.\n",
    "write_prefix = \"fraud-detect-demo\"  # Defining the S3 prefix for writing data related to the fraud detection demo.\n",
    "\n",
    "region = sess.boto_region_name  # Retrieving the AWS region name associated with the SageMaker session.\n",
    "s3_client = boto3.client(\"s3\", region_name=region)  # Creating an S3 client for interacting with Amazon S3.\n",
    "sm_client = boto3.client(\"sagemaker\", region_name=region)  # Creating a SageMaker client for interacting with the SageMaker service.\n",
    "sm_runtime_client = boto3.client(\"sagemaker-runtime\")  # Creating a SageMaker Runtime client for invoking deployed models.\n",
    "sm_autoscaling_client = boto3.client(\"application-autoscaling\")  # Creating an Application Auto Scaling client for managing auto-scaling policies.\n",
    "\n",
    "sagemaker_role = sagemaker.get_execution_role()  # Retrieving the IAM role for SageMaker execution.\n",
    "\n",
    "# S3 locations used for parameterizing the notebook run\n",
    "read_bucket = \"sagemaker-sample-files\"  # Defining the S3 bucket for reading sample files.\n",
    "read_prefix = \"datasets/tabular/synthetic_automobile_claims\"  # Defining the S3 prefix for reading synthetic automobile claims data.\n",
    "model_prefix = \"models/xgb-fraud\"  # Defining the S3 prefix for the XGBoost fraud detection model.\n",
    "\n",
    "data_capture_key = f\"{write_prefix}/data-capture\"  # Defining the S3 key for data capture during model inference.\n",
    "\n",
    "# S3 location of trained model artifact\n",
    "model_uri = f\"s3://{read_bucket}/{model_prefix}/fraud-det-xgb-model.tar.gz\"  # Defining the S3 URI of the trained XGBoost model artifact.\n",
    "\n",
    "# S3 path where data captured at endpoint will be stored\n",
    "data_capture_uri = f\"s3://{write_bucket}/{data_capture_key}\"  # Defining the S3 URI for storing data captured at the inference endpoint.\n",
    "\n",
    "# S3 location of test data\n",
    "test_data_uri = f\"s3://{read_bucket}/{read_prefix}/test.csv\"  # Defining the S3 URI for the test data."
   ]
  }
 ],
 "metadata": {
  "language_info": {
   "name": "python"
  }
 },
 "nbformat": 4,
 "nbformat_minor": 2
}
